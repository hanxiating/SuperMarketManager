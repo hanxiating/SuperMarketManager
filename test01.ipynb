{
  "nbformat": 4,
  "nbformat_minor": 0,
  "metadata": {
    "colab": {
      "name": "test01.ipynb",
      "version": "0.3.2",
      "provenance": [],
      "include_colab_link": true
    },
    "kernelspec": {
      "name": "python3",
      "display_name": "Python 3"
    },
    "accelerator": "GPU"
  },
  "cells": [
    {
      "cell_type": "markdown",
      "metadata": {
        "id": "view-in-github",
        "colab_type": "text"
      },
      "source": [
        "<a href=\"https://colab.research.google.com/github/hanxiating/SuperMarketManager/blob/master/test01.ipynb\" target=\"_parent\"><img src=\"https://colab.research.google.com/assets/colab-badge.svg\" alt=\"Open In Colab\"/></a>"
      ]
    },
    {
      "metadata": {
        "id": "-4VQxjQrRWun",
        "colab_type": "code",
        "outputId": "f242ddfd-7718-40d1-d4a0-36d8b35c4bb8",
        "colab": {
          "base_uri": "https://localhost:8080/",
          "height": 155
        }
      },
      "cell_type": "code",
      "source": [
        "!wget http://59.108.48.34/mipl/tiki-download_file.php?fileId=1008"
      ],
      "execution_count": 0,
      "outputs": [
        {
          "output_type": "stream",
          "text": [
            "--2019-03-07 11:02:42--  http://59.108.48.34/mipl/tiki-download_file.php?fileId=1008\n",
            "Connecting to 59.108.48.34:80... connected.\n",
            "HTTP request sent, awaiting response... 200 OK\n",
            "Length: unspecified [video/mpeg4]\n",
            "Saving to: ‘tiki-download_file.php?fileId=1008.1’\n",
            "\n",
            ".php?fileId=1008.1      [      <=>           ] 420.24K  50.4KB/s               "
          ],
          "name": "stdout"
        }
      ]
    },
    {
      "metadata": {
        "id": "PHduHRz5z_jp",
        "colab_type": "code",
        "colab": {
          "base_uri": "https://localhost:8080/",
          "height": 35
        },
        "outputId": "3d37d7cb-39cc-4562-e404-7805dabb3cd5"
      },
      "cell_type": "code",
      "source": [
        "!ls"
      ],
      "execution_count": 4,
      "outputs": [
        {
          "output_type": "stream",
          "text": [
            "sample_data\n"
          ],
          "name": "stdout"
        }
      ]
    },
    {
      "metadata": {
        "id": "lKlmSsT71SXs",
        "colab_type": "code",
        "colab": {
          "base_uri": "https://localhost:8080/",
          "height": 35
        },
        "outputId": "5e33b288-3b82-4ec2-97b9-1bbb5ce17361"
      },
      "cell_type": "code",
      "source": [
        "import os\n",
        "cur_dir = os.getcwd()\n",
        "print(cur_dir)"
      ],
      "execution_count": 5,
      "outputs": [
        {
          "output_type": "stream",
          "text": [
            "/content\n"
          ],
          "name": "stdout"
        }
      ]
    },
    {
      "metadata": {
        "id": "o3VdGhSi1lEN",
        "colab_type": "code",
        "colab": {
          "base_uri": "https://localhost:8080/",
          "height": 127
        },
        "outputId": "be02e211-0d70-48c1-bc41-11d154607c64"
      },
      "cell_type": "code",
      "source": [
        "from google.colab import drive\n",
        "drive.mount('/content/drive/')"
      ],
      "execution_count": 7,
      "outputs": [
        {
          "output_type": "stream",
          "text": [
            "Go to this URL in a browser: https://accounts.google.com/o/oauth2/auth?client_id=947318989803-6bn6qk8qdgf4n4g3pfee6491hc0brc4i.apps.googleusercontent.com&redirect_uri=urn%3Aietf%3Awg%3Aoauth%3A2.0%3Aoob&scope=email%20https%3A%2F%2Fwww.googleapis.com%2Fauth%2Fdocs.test%20https%3A%2F%2Fwww.googleapis.com%2Fauth%2Fdrive%20https%3A%2F%2Fwww.googleapis.com%2Fauth%2Fdrive.photos.readonly%20https%3A%2F%2Fwww.googleapis.com%2Fauth%2Fpeopleapi.readonly&response_type=code\n",
            "\n",
            "Enter your authorization code:\n",
            "··········\n",
            "Mounted at /content/drive/\n"
          ],
          "name": "stdout"
        }
      ]
    },
    {
      "metadata": {
        "id": "HBg_OLF03AMr",
        "colab_type": "code",
        "colab": {
          "base_uri": "https://localhost:8080/",
          "height": 35
        },
        "outputId": "3c6c8343-f721-42cb-e8e5-21999f683a2d"
      },
      "cell_type": "code",
      "source": [
        "!ls \"/content/drive/My Drive/\""
      ],
      "execution_count": 8,
      "outputs": [
        {
          "output_type": "stream",
          "text": [
            "app  test01.ipynb\n"
          ],
          "name": "stdout"
        }
      ]
    },
    {
      "metadata": {
        "id": "F9ss9uPO3G2b",
        "colab_type": "code",
        "colab": {}
      },
      "cell_type": "code",
      "source": [
        "!pip install -q keras"
      ],
      "execution_count": 0,
      "outputs": []
    },
    {
      "metadata": {
        "id": "WjU0FXX64lW-",
        "colab_type": "code",
        "colab": {
          "base_uri": "https://localhost:8080/",
          "height": 1099
        },
        "outputId": "4c99862a-34bd-44ce-8d1b-8b6f57e9c3ef"
      },
      "cell_type": "code",
      "source": [
        "!python3 \"/content/drive/My Drive/app/mnist_cnn.py\""
      ],
      "execution_count": 11,
      "outputs": [
        {
          "output_type": "stream",
          "text": [
            "Using TensorFlow backend.\n",
            "Downloading data from https://s3.amazonaws.com/img-datasets/mnist.npz\n",
            "11493376/11490434 [==============================] - 1s 0us/step\n",
            "x_train shape: (60000, 28, 28, 1)\n",
            "60000 train samples\n",
            "10000 test samples\n",
            "WARNING:tensorflow:From /usr/local/lib/python3.6/dist-packages/tensorflow/python/framework/op_def_library.py:263: colocate_with (from tensorflow.python.framework.ops) is deprecated and will be removed in a future version.\n",
            "Instructions for updating:\n",
            "Colocations handled automatically by placer.\n",
            "WARNING:tensorflow:From /usr/local/lib/python3.6/dist-packages/keras/backend/tensorflow_backend.py:3445: calling dropout (from tensorflow.python.ops.nn_ops) with keep_prob is deprecated and will be removed in a future version.\n",
            "Instructions for updating:\n",
            "Please use `rate` instead of `keep_prob`. Rate should be set to `rate = 1 - keep_prob`.\n",
            "WARNING:tensorflow:From /usr/local/lib/python3.6/dist-packages/tensorflow/python/ops/math_ops.py:3066: to_int32 (from tensorflow.python.ops.math_ops) is deprecated and will be removed in a future version.\n",
            "Instructions for updating:\n",
            "Use tf.cast instead.\n",
            "Train on 60000 samples, validate on 10000 samples\n",
            "Epoch 1/12\n",
            "2019-03-07 11:21:11.587186: I tensorflow/core/platform/profile_utils/cpu_utils.cc:94] CPU Frequency: 2300000000 Hz\n",
            "2019-03-07 11:21:11.587477: I tensorflow/compiler/xla/service/service.cc:150] XLA service 0x2925fa0 executing computations on platform Host. Devices:\n",
            "2019-03-07 11:21:11.587517: I tensorflow/compiler/xla/service/service.cc:158]   StreamExecutor device (0): <undefined>, <undefined>\n",
            "2019-03-07 11:21:11.652648: I tensorflow/stream_executor/cuda/cuda_gpu_executor.cc:998] successful NUMA node read from SysFS had negative value (-1), but there must be at least one NUMA node, so returning NUMA node zero\n",
            "2019-03-07 11:21:11.653202: I tensorflow/compiler/xla/service/service.cc:150] XLA service 0x2925600 executing computations on platform CUDA. Devices:\n",
            "2019-03-07 11:21:11.653243: I tensorflow/compiler/xla/service/service.cc:158]   StreamExecutor device (0): Tesla K80, Compute Capability 3.7\n",
            "2019-03-07 11:21:11.653636: I tensorflow/core/common_runtime/gpu/gpu_device.cc:1433] Found device 0 with properties: \n",
            "name: Tesla K80 major: 3 minor: 7 memoryClockRate(GHz): 0.8235\n",
            "pciBusID: 0000:00:04.0\n",
            "totalMemory: 11.17GiB freeMemory: 10.99GiB\n",
            "2019-03-07 11:21:11.653671: I tensorflow/core/common_runtime/gpu/gpu_device.cc:1512] Adding visible gpu devices: 0\n",
            "2019-03-07 11:21:12.030311: I tensorflow/core/common_runtime/gpu/gpu_device.cc:984] Device interconnect StreamExecutor with strength 1 edge matrix:\n",
            "2019-03-07 11:21:12.030398: I tensorflow/core/common_runtime/gpu/gpu_device.cc:990]      0 \n",
            "2019-03-07 11:21:12.030453: I tensorflow/core/common_runtime/gpu/gpu_device.cc:1003] 0:   N \n",
            "2019-03-07 11:21:12.030741: W tensorflow/core/common_runtime/gpu/gpu_bfc_allocator.cc:42] Overriding allow_growth setting because the TF_FORCE_GPU_ALLOW_GROWTH environment variable is set. Original config value was 0.\n",
            "2019-03-07 11:21:12.030803: I tensorflow/core/common_runtime/gpu/gpu_device.cc:1115] Created TensorFlow device (/job:localhost/replica:0/task:0/device:GPU:0 with 10646 MB memory) -> physical GPU (device: 0, name: Tesla K80, pci bus id: 0000:00:04.0, compute capability: 3.7)\n",
            "2019-03-07 11:21:12.447234: I tensorflow/stream_executor/dso_loader.cc:152] successfully opened CUDA library libcublas.so.10.0 locally\n",
            "60000/60000 [==============================] - 12s 198us/step - loss: 0.2715 - acc: 0.9164 - val_loss: 0.0617 - val_acc: 0.9794\n",
            "Epoch 2/12\n",
            "60000/60000 [==============================] - 8s 136us/step - loss: 0.0919 - acc: 0.9730 - val_loss: 0.0437 - val_acc: 0.9857\n",
            "Epoch 3/12\n",
            "60000/60000 [==============================] - 8s 136us/step - loss: 0.0702 - acc: 0.9798 - val_loss: 0.0383 - val_acc: 0.9868\n",
            "Epoch 4/12\n",
            "60000/60000 [==============================] - 8s 136us/step - loss: 0.0585 - acc: 0.9829 - val_loss: 0.0342 - val_acc: 0.9887\n",
            "Epoch 5/12\n",
            "60000/60000 [==============================] - 8s 136us/step - loss: 0.0471 - acc: 0.9860 - val_loss: 0.0303 - val_acc: 0.9890\n",
            "Epoch 6/12\n",
            "60000/60000 [==============================] - 8s 136us/step - loss: 0.0432 - acc: 0.9870 - val_loss: 0.0278 - val_acc: 0.9906\n",
            "Epoch 7/12\n",
            "60000/60000 [==============================] - 8s 136us/step - loss: 0.0400 - acc: 0.9877 - val_loss: 0.0299 - val_acc: 0.9898\n",
            "Epoch 8/12\n",
            "60000/60000 [==============================] - 8s 137us/step - loss: 0.0350 - acc: 0.9897 - val_loss: 0.0285 - val_acc: 0.9909\n",
            "Epoch 9/12\n",
            "60000/60000 [==============================] - 8s 136us/step - loss: 0.0318 - acc: 0.9903 - val_loss: 0.0287 - val_acc: 0.9899\n",
            "Epoch 10/12\n",
            "60000/60000 [==============================] - 8s 136us/step - loss: 0.0305 - acc: 0.9902 - val_loss: 0.0290 - val_acc: 0.9899\n",
            "Epoch 11/12\n",
            "60000/60000 [==============================] - 8s 136us/step - loss: 0.0284 - acc: 0.9917 - val_loss: 0.0257 - val_acc: 0.9920\n",
            "Epoch 12/12\n",
            "60000/60000 [==============================] - 8s 136us/step - loss: 0.0275 - acc: 0.9918 - val_loss: 0.0264 - val_acc: 0.9919\n",
            "Test loss: 0.026407189993982137\n",
            "Test accuracy: 0.9919\n"
          ],
          "name": "stdout"
        }
      ]
    }
  ]
}